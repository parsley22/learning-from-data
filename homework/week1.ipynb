{
 "nbformat": 4,
 "nbformat_minor": 2,
 "metadata": {
  "language_info": {
   "name": "python",
   "codemirror_mode": {
    "name": "ipython",
    "version": 3
   },
   "version": "3.8.2-final"
  },
  "orig_nbformat": 2,
  "file_extension": ".py",
  "mimetype": "text/x-python",
  "name": "python",
  "npconvert_exporter": "python",
  "pygments_lexer": "ipython3",
  "version": 3,
  "kernelspec": {
   "name": "python38232bit0a951f340e144c4d99c2db16986e8632",
   "display_name": "Python 3.8.2 32-bit"
  }
 },
 "cells": [
  {
   "cell_type": "markdown",
   "metadata": {},
   "source": [
    "# 1\n",
    "## i)\n",
    "\n",
    "Data on each coin is given from the U.S. Mint. For each data point, a class label is assigned. As we have a defined $y$, this is a supervised learning problem\n",
    "\n",
    "## ii)\n",
    "\n",
    "This time, no $y$ vector is provided. This vector must be learned by the machine. Therefore, this is an unsupervised learning problem\n",
    "\n",
    "## iii)\n",
    "\n",
    "A machine is given partial information, such as the reward, for each data point (state). Therefore, this is reinforcement learning\n"
   ]
  },
  {
   "cell_type": "code",
   "execution_count": null,
   "metadata": {},
   "outputs": [],
   "source": []
  },
  {
   "cell_type": "code",
   "execution_count": 4,
   "metadata": {},
   "outputs": [
    {
     "output_type": "execute_result",
     "data": {
      "text/plain": "'\\nLets build a decision tree:\\n\\n\\n\\n\\n                   0.5- black\\n        0.5- bag 1\\n                   0.5- black\\npick_bag          \\n                   0.5- black\\n        0.5- bag 2\\n                   0.5- white\\n\\nWe are looking for P(second_ball = white | first ball is black)\\n\\nHow many times can this happen?\\n\\nWe have to pick bag 1 first. We can then choose either ball from this bag. Therefore, we have the following possible scenarios:\\n\\n0.5 * 0.5 = .25\\n0.5 * 0.5 = .25\\n\\nsumming these gives:\\n\\nP(second_ball = white | first ball is black) = .5 = 1/2\\n'"
     },
     "metadata": {},
     "execution_count": 4
    }
   ],
   "source": [
    "# 3\n",
    "\"\"\"\n",
    "Lets build a decision tree:\n",
    "\n",
    "\n",
    "\n",
    "\n",
    "                   0.5- black\n",
    "        0.5- bag 1\n",
    "                   0.5- black\n",
    "pick_bag          \n",
    "                   0.5- black\n",
    "        0.5- bag 2\n",
    "                   0.5- white\n",
    "\n",
    "We are looking for P(second_ball = white | first ball is black)\n",
    "\n",
    "How many times can this happen?\n",
    "\n",
    "We have to pick bag 1 first. We can then choose either ball from this bag. Therefore, we have the following possible scenarios:\n",
    "\n",
    "\n",
    "\"\"\"\n",
    "\n"
   ]
  },
  {
   "cell_type": "code",
   "execution_count": 9,
   "metadata": {},
   "outputs": [
    {
     "output_type": "stream",
     "name": "stdout",
     "text": "0.0003405062891601559\n"
    }
   ],
   "source": [
    "# 4\n",
    "n = 10 # samples\n",
    "mu = .55 #p(draw = red)\n",
    "\n",
    "# Draw a sample. Compute probability that v (number of reds in sample) = 0\n",
    "\n",
    "pv = (1-mu)**n \n",
    "print(pv)\n",
    "\n",
    "# Answer = b\n",
    "\n",
    "\n"
   ]
  },
  {
   "cell_type": "code",
   "execution_count": 10,
   "metadata": {},
   "outputs": [
    {
     "output_type": "stream",
     "name": "stdout",
     "text": "0.3405062891601559\n"
    }
   ],
   "source": [
    "N = 1000\n",
    "n = 10\n",
    "mu = .55\n",
    "\n",
    "pv = N * (1-mu) ** n\n",
    "print(pv)\n",
    "\n",
    "# Answer = d"
   ]
  },
  {
   "cell_type": "code",
   "execution_count": 1,
   "metadata": {
    "tags": [
     "outputPrepend",
     "outputPrepend"
    ]
   },
   "outputs": [],
   "source": []
  },
  {
   "cell_type": "code",
   "execution_count": 20,
   "metadata": {
    "tags": [
     "outputPrepend",
     "outputPrepend",
     "outputPrepend",
     "outputPrepend",
     "outputPrepend",
     "outputPrepend",
     "outputPrepend",
     "outputPrepend",
     "outputPrepend",
     "outputPrepend",
     "outputPrepend",
     "outputPrepend",
     "outputPrepend",
     "outputPrepend",
     "outputPrepend",
     "outputPrepend",
     "outputPrepend",
     "outputPrepend",
     "outputPrepend",
     "outputPrepend",
     "outputPrepend",
     "outputPrepend",
     "outputPrepend",
     "outputPrepend",
     "outputPrepend",
     "outputPrepend"
    ]
   },
   "outputs": [
    {
     "output_type": "execute_result",
     "data": {
      "text/plain": "<matplotlib.collections.PathCollection at 0x13ed35c8>"
     },
     "metadata": {},
     "execution_count": 20
    },
    {
     "output_type": "display_data",
     "data": {
      "text/plain": "<Figure size 432x288 with 1 Axes>",
      "image/svg+xml": "<?xml version=\"1.0\" encoding=\"utf-8\" standalone=\"no\"?>\r\n<!DOCTYPE svg PUBLIC \"-//W3C//DTD SVG 1.1//EN\"\r\n  \"http://www.w3.org/Graphics/SVG/1.1/DTD/svg11.dtd\">\r\n<!-- Created with matplotlib (https://matplotlib.org/) -->\r\n<svg height=\"248.518125pt\" version=\"1.1\" viewBox=\"0 0 380.482812 248.518125\" width=\"380.482812pt\" xmlns=\"http://www.w3.org/2000/svg\" xmlns:xlink=\"http://www.w3.org/1999/xlink\">\r\n <defs>\r\n  <style type=\"text/css\">\r\n*{stroke-linecap:butt;stroke-linejoin:round;}\r\n  </style>\r\n </defs>\r\n <g id=\"figure_1\">\r\n  <g id=\"patch_1\">\r\n   <path d=\"M -0 248.518125 \r\nL 380.482812 248.518125 \r\nL 380.482812 0 \r\nL -0 0 \r\nz\r\n\" style=\"fill:none;\"/>\r\n  </g>\r\n  <g id=\"axes_1\">\r\n   <g id=\"patch_2\">\r\n    <path d=\"M 38.482813 224.64 \r\nL 373.282813 224.64 \r\nL 373.282813 7.2 \r\nL 38.482813 7.2 \r\nz\r\n\" style=\"fill:#ffffff;\"/>\r\n   </g>\r\n   <g id=\"PathCollection_1\">\r\n    <defs>\r\n     <path d=\"M 0 3 \r\nC 0.795609 3 1.55874 2.683901 2.12132 2.12132 \r\nC 2.683901 1.55874 3 0.795609 3 0 \r\nC 3 -0.795609 2.683901 -1.55874 2.12132 -2.12132 \r\nC 1.55874 -2.683901 0.795609 -3 0 -3 \r\nC -0.795609 -3 -1.55874 -2.683901 -2.12132 -2.12132 \r\nC -2.683901 -1.55874 -3 -0.795609 -3 0 \r\nC -3 0.795609 -2.683901 1.55874 -2.12132 2.12132 \r\nC -1.55874 2.683901 -0.795609 3 0 3 \r\nz\r\n\" id=\"m2a5905af31\" style=\"stroke:#1f77b4;\"/>\r\n    </defs>\r\n    <g clip-path=\"url(#p0c1ad35cbc)\">\r\n     <use style=\"fill:#1f77b4;stroke:#1f77b4;\" x=\"335.427949\" xlink:href=\"#m2a5905af31\" y=\"154.839247\"/>\r\n     <use style=\"fill:#1f77b4;stroke:#1f77b4;\" x=\"170.635077\" xlink:href=\"#m2a5905af31\" y=\"184.543592\"/>\r\n     <use style=\"fill:#1f77b4;stroke:#1f77b4;\" x=\"99.266427\" xlink:href=\"#m2a5905af31\" y=\"211.572278\"/>\r\n     <use style=\"fill:#1f77b4;stroke:#1f77b4;\" x=\"326.088699\" xlink:href=\"#m2a5905af31\" y=\"99.137037\"/>\r\n     <use style=\"fill:#1f77b4;stroke:#1f77b4;\" x=\"167.121466\" xlink:href=\"#m2a5905af31\" y=\"95.620438\"/>\r\n     <use style=\"fill:#1f77b4;stroke:#1f77b4;\" x=\"322.666698\" xlink:href=\"#m2a5905af31\" y=\"165.710397\"/>\r\n     <use style=\"fill:#1f77b4;stroke:#1f77b4;\" x=\"267.120179\" xlink:href=\"#m2a5905af31\" y=\"101.995726\"/>\r\n     <use style=\"fill:#1f77b4;stroke:#1f77b4;\" x=\"252.172879\" xlink:href=\"#m2a5905af31\" y=\"187.611547\"/>\r\n     <use style=\"fill:#1f77b4;stroke:#1f77b4;\" x=\"206.42114\" xlink:href=\"#m2a5905af31\" y=\"127.609712\"/>\r\n     <use style=\"fill:#1f77b4;stroke:#1f77b4;\" x=\"160.689093\" xlink:href=\"#m2a5905af31\" y=\"101.261819\"/>\r\n     <use style=\"fill:#1f77b4;stroke:#1f77b4;\" x=\"122.449927\" xlink:href=\"#m2a5905af31\" y=\"195.516418\"/>\r\n     <use style=\"fill:#1f77b4;stroke:#1f77b4;\" x=\"70.667778\" xlink:href=\"#m2a5905af31\" y=\"109.869016\"/>\r\n     <use style=\"fill:#1f77b4;stroke:#1f77b4;\" x=\"207.538148\" xlink:href=\"#m2a5905af31\" y=\"148.844251\"/>\r\n     <use style=\"fill:#1f77b4;stroke:#1f77b4;\" x=\"114.625977\" xlink:href=\"#m2a5905af31\" y=\"157.943382\"/>\r\n     <use style=\"fill:#1f77b4;stroke:#1f77b4;\" x=\"310.512673\" xlink:href=\"#m2a5905af31\" y=\"176.974166\"/>\r\n     <use style=\"fill:#1f77b4;stroke:#1f77b4;\" x=\"332.0235\" xlink:href=\"#m2a5905af31\" y=\"145.574016\"/>\r\n     <use style=\"fill:#1f77b4;stroke:#1f77b4;\" x=\"234.112446\" xlink:href=\"#m2a5905af31\" y=\"163.534896\"/>\r\n     <use style=\"fill:#1f77b4;stroke:#1f77b4;\" x=\"343.786585\" xlink:href=\"#m2a5905af31\" y=\"153.864371\"/>\r\n     <use style=\"fill:#1f77b4;stroke:#1f77b4;\" x=\"97.883421\" xlink:href=\"#m2a5905af31\" y=\"167.715152\"/>\r\n     <use style=\"fill:#1f77b4;stroke:#1f77b4;\" x=\"254.93111\" xlink:href=\"#m2a5905af31\" y=\"124.504513\"/>\r\n     <use style=\"fill:#1f77b4;stroke:#1f77b4;\" x=\"64.030248\" xlink:href=\"#m2a5905af31\" y=\"153.520402\"/>\r\n     <use style=\"fill:#1f77b4;stroke:#1f77b4;\" x=\"277.549286\" xlink:href=\"#m2a5905af31\" y=\"96.499674\"/>\r\n     <use style=\"fill:#1f77b4;stroke:#1f77b4;\" x=\"342.151425\" xlink:href=\"#m2a5905af31\" y=\"169.057685\"/>\r\n     <use style=\"fill:#1f77b4;stroke:#1f77b4;\" x=\"72.188271\" xlink:href=\"#m2a5905af31\" y=\"111.546589\"/>\r\n     <use style=\"fill:#1f77b4;stroke:#1f77b4;\" x=\"93.066827\" xlink:href=\"#m2a5905af31\" y=\"147.436288\"/>\r\n     <use style=\"fill:#1f77b4;stroke:#1f77b4;\" x=\"308.209585\" xlink:href=\"#m2a5905af31\" y=\"106.802733\"/>\r\n     <use style=\"fill:#1f77b4;stroke:#1f77b4;\" x=\"157.060108\" xlink:href=\"#m2a5905af31\" y=\"191.672639\"/>\r\n     <use style=\"fill:#1f77b4;stroke:#1f77b4;\" x=\"287.261985\" xlink:href=\"#m2a5905af31\" y=\"187.327326\"/>\r\n     <use style=\"fill:#1f77b4;stroke:#1f77b4;\" x=\"55.988382\" xlink:href=\"#m2a5905af31\" y=\"172.551091\"/>\r\n     <use style=\"fill:#1f77b4;stroke:#1f77b4;\" x=\"355.913453\" xlink:href=\"#m2a5905af31\" y=\"100.920411\"/>\r\n     <use style=\"fill:#1f77b4;stroke:#1f77b4;\" x=\"343.052463\" xlink:href=\"#m2a5905af31\" y=\"214.756364\"/>\r\n     <use style=\"fill:#1f77b4;stroke:#1f77b4;\" x=\"270.727274\" xlink:href=\"#m2a5905af31\" y=\"104.8914\"/>\r\n     <use style=\"fill:#1f77b4;stroke:#1f77b4;\" x=\"132.887212\" xlink:href=\"#m2a5905af31\" y=\"168.183285\"/>\r\n     <use style=\"fill:#1f77b4;stroke:#1f77b4;\" x=\"306.262894\" xlink:href=\"#m2a5905af31\" y=\"165.969172\"/>\r\n     <use style=\"fill:#1f77b4;stroke:#1f77b4;\" x=\"84.020256\" xlink:href=\"#m2a5905af31\" y=\"97.962954\"/>\r\n     <use style=\"fill:#1f77b4;stroke:#1f77b4;\" x=\"278.504381\" xlink:href=\"#m2a5905af31\" y=\"118.035611\"/>\r\n     <use style=\"fill:#1f77b4;stroke:#1f77b4;\" x=\"68.754393\" xlink:href=\"#m2a5905af31\" y=\"200.59641\"/>\r\n     <use style=\"fill:#1f77b4;stroke:#1f77b4;\" x=\"231.783783\" xlink:href=\"#m2a5905af31\" y=\"136.153927\"/>\r\n     <use style=\"fill:#1f77b4;stroke:#1f77b4;\" x=\"164.380254\" xlink:href=\"#m2a5905af31\" y=\"95.214887\"/>\r\n     <use style=\"fill:#1f77b4;stroke:#1f77b4;\" x=\"236.230725\" xlink:href=\"#m2a5905af31\" y=\"141.916976\"/>\r\n     <use style=\"fill:#1f77b4;stroke:#1f77b4;\" x=\"200.501074\" xlink:href=\"#m2a5905af31\" y=\"171.08385\"/>\r\n     <use style=\"fill:#1f77b4;stroke:#1f77b4;\" x=\"330.243736\" xlink:href=\"#m2a5905af31\" y=\"184.623028\"/>\r\n     <use style=\"fill:#1f77b4;stroke:#1f77b4;\" x=\"79.481734\" xlink:href=\"#m2a5905af31\" y=\"199.501464\"/>\r\n     <use style=\"fill:#1f77b4;stroke:#1f77b4;\" x=\"228.037733\" xlink:href=\"#m2a5905af31\" y=\"129.031186\"/>\r\n     <use style=\"fill:#1f77b4;stroke:#1f77b4;\" x=\"260.342291\" xlink:href=\"#m2a5905af31\" y=\"154.636563\"/>\r\n     <use style=\"fill:#1f77b4;stroke:#1f77b4;\" x=\"208.122397\" xlink:href=\"#m2a5905af31\" y=\"157.361172\"/>\r\n     <use style=\"fill:#1f77b4;stroke:#1f77b4;\" x=\"192.06197\" xlink:href=\"#m2a5905af31\" y=\"98.580411\"/>\r\n     <use style=\"fill:#1f77b4;stroke:#1f77b4;\" x=\"238.141375\" xlink:href=\"#m2a5905af31\" y=\"130.889206\"/>\r\n     <use style=\"fill:#1f77b4;stroke:#1f77b4;\" x=\"177.583374\" xlink:href=\"#m2a5905af31\" y=\"135.835599\"/>\r\n     <use style=\"fill:#1f77b4;stroke:#1f77b4;\" x=\"167.98912\" xlink:href=\"#m2a5905af31\" y=\"184.889308\"/>\r\n     <use style=\"fill:#1f77b4;stroke:#1f77b4;\" x=\"331.758922\" xlink:href=\"#m2a5905af31\" y=\"188.462905\"/>\r\n     <use style=\"fill:#1f77b4;stroke:#1f77b4;\" x=\"269.710508\" xlink:href=\"#m2a5905af31\" y=\"154.296421\"/>\r\n     <use style=\"fill:#1f77b4;stroke:#1f77b4;\" x=\"181.058297\" xlink:href=\"#m2a5905af31\" y=\"148.390474\"/>\r\n     <use style=\"fill:#1f77b4;stroke:#1f77b4;\" x=\"319.100263\" xlink:href=\"#m2a5905af31\" y=\"146.231805\"/>\r\n     <use style=\"fill:#1f77b4;stroke:#1f77b4;\" x=\"155.475093\" xlink:href=\"#m2a5905af31\" y=\"117.025411\"/>\r\n     <use style=\"fill:#1f77b4;stroke:#1f77b4;\" x=\"309.225057\" xlink:href=\"#m2a5905af31\" y=\"142.108193\"/>\r\n     <use style=\"fill:#1f77b4;stroke:#1f77b4;\" x=\"129.964693\" xlink:href=\"#m2a5905af31\" y=\"168.709559\"/>\r\n     <use style=\"fill:#1f77b4;stroke:#1f77b4;\" x=\"209.676567\" xlink:href=\"#m2a5905af31\" y=\"143.324385\"/>\r\n     <use style=\"fill:#1f77b4;stroke:#1f77b4;\" x=\"274.731599\" xlink:href=\"#m2a5905af31\" y=\"111.582824\"/>\r\n     <use style=\"fill:#1f77b4;stroke:#1f77b4;\" x=\"352.865664\" xlink:href=\"#m2a5905af31\" y=\"191.025188\"/>\r\n     <use style=\"fill:#1f77b4;stroke:#1f77b4;\" x=\"304.736708\" xlink:href=\"#m2a5905af31\" y=\"109.982925\"/>\r\n     <use style=\"fill:#1f77b4;stroke:#1f77b4;\" x=\"149.515281\" xlink:href=\"#m2a5905af31\" y=\"117.384567\"/>\r\n     <use style=\"fill:#1f77b4;stroke:#1f77b4;\" x=\"190.974255\" xlink:href=\"#m2a5905af31\" y=\"176.213016\"/>\r\n     <use style=\"fill:#1f77b4;stroke:#1f77b4;\" x=\"312.261883\" xlink:href=\"#m2a5905af31\" y=\"141.833424\"/>\r\n     <use style=\"fill:#1f77b4;stroke:#1f77b4;\" x=\"142.108938\" xlink:href=\"#m2a5905af31\" y=\"105.892549\"/>\r\n     <use style=\"fill:#1f77b4;stroke:#1f77b4;\" x=\"83.452347\" xlink:href=\"#m2a5905af31\" y=\"143.872084\"/>\r\n     <use style=\"fill:#1f77b4;stroke:#1f77b4;\" x=\"253.572489\" xlink:href=\"#m2a5905af31\" y=\"150.99087\"/>\r\n     <use style=\"fill:#1f77b4;stroke:#1f77b4;\" x=\"247.237927\" xlink:href=\"#m2a5905af31\" y=\"173.980289\"/>\r\n     <use style=\"fill:#1f77b4;stroke:#1f77b4;\" x=\"97.618066\" xlink:href=\"#m2a5905af31\" y=\"107.230999\"/>\r\n     <use style=\"fill:#1f77b4;stroke:#1f77b4;\" x=\"260.630793\" xlink:href=\"#m2a5905af31\" y=\"207.711451\"/>\r\n     <use style=\"fill:#1f77b4;stroke:#1f77b4;\" x=\"330.552643\" xlink:href=\"#m2a5905af31\" y=\"206.94231\"/>\r\n     <use style=\"fill:#1f77b4;stroke:#1f77b4;\" x=\"316.365737\" xlink:href=\"#m2a5905af31\" y=\"119.991557\"/>\r\n     <use style=\"fill:#1f77b4;stroke:#1f77b4;\" x=\"77.869895\" xlink:href=\"#m2a5905af31\" y=\"130.921862\"/>\r\n     <use style=\"fill:#1f77b4;stroke:#1f77b4;\" x=\"59.029283\" xlink:href=\"#m2a5905af31\" y=\"137.483453\"/>\r\n     <use style=\"fill:#1f77b4;stroke:#1f77b4;\" x=\"347.700843\" xlink:href=\"#m2a5905af31\" y=\"160.181845\"/>\r\n     <use style=\"fill:#1f77b4;stroke:#1f77b4;\" x=\"59.468383\" xlink:href=\"#m2a5905af31\" y=\"194.547841\"/>\r\n     <use style=\"fill:#1f77b4;stroke:#1f77b4;\" x=\"200.494839\" xlink:href=\"#m2a5905af31\" y=\"212.602048\"/>\r\n     <use style=\"fill:#1f77b4;stroke:#1f77b4;\" x=\"118.574266\" xlink:href=\"#m2a5905af31\" y=\"96.652253\"/>\r\n     <use style=\"fill:#1f77b4;stroke:#1f77b4;\" x=\"318.79975\" xlink:href=\"#m2a5905af31\" y=\"101.022571\"/>\r\n     <use style=\"fill:#1f77b4;stroke:#1f77b4;\" x=\"334.88984\" xlink:href=\"#m2a5905af31\" y=\"203.519447\"/>\r\n     <use style=\"fill:#1f77b4;stroke:#1f77b4;\" x=\"266.538949\" xlink:href=\"#m2a5905af31\" y=\"118.317599\"/>\r\n     <use style=\"fill:#1f77b4;stroke:#1f77b4;\" x=\"181.38806\" xlink:href=\"#m2a5905af31\" y=\"203.607343\"/>\r\n     <use style=\"fill:#1f77b4;stroke:#1f77b4;\" x=\"312.021186\" xlink:href=\"#m2a5905af31\" y=\"145.934967\"/>\r\n     <use style=\"fill:#1f77b4;stroke:#1f77b4;\" x=\"326.558171\" xlink:href=\"#m2a5905af31\" y=\"182.949173\"/>\r\n     <use style=\"fill:#1f77b4;stroke:#1f77b4;\" x=\"107.551468\" xlink:href=\"#m2a5905af31\" y=\"203.654684\"/>\r\n     <use style=\"fill:#1f77b4;stroke:#1f77b4;\" x=\"354.964366\" xlink:href=\"#m2a5905af31\" y=\"97.691718\"/>\r\n     <use style=\"fill:#1f77b4;stroke:#1f77b4;\" x=\"328.419216\" xlink:href=\"#m2a5905af31\" y=\"154.024027\"/>\r\n     <use style=\"fill:#1f77b4;stroke:#1f77b4;\" x=\"292.91901\" xlink:href=\"#m2a5905af31\" y=\"101.164008\"/>\r\n     <use style=\"fill:#1f77b4;stroke:#1f77b4;\" x=\"210.56933\" xlink:href=\"#m2a5905af31\" y=\"155.314754\"/>\r\n     <use style=\"fill:#1f77b4;stroke:#1f77b4;\" x=\"149.772935\" xlink:href=\"#m2a5905af31\" y=\"196.967987\"/>\r\n     <use style=\"fill:#1f77b4;stroke:#1f77b4;\" x=\"357.254696\" xlink:href=\"#m2a5905af31\" y=\"212.280715\"/>\r\n     <use style=\"fill:#1f77b4;stroke:#1f77b4;\" x=\"340.362549\" xlink:href=\"#m2a5905af31\" y=\"184.434874\"/>\r\n     <use style=\"fill:#1f77b4;stroke:#1f77b4;\" x=\"290.784466\" xlink:href=\"#m2a5905af31\" y=\"134.137075\"/>\r\n     <use style=\"fill:#1f77b4;stroke:#1f77b4;\" x=\"250.194806\" xlink:href=\"#m2a5905af31\" y=\"104.892512\"/>\r\n     <use style=\"fill:#1f77b4;stroke:#1f77b4;\" x=\"159.681668\" xlink:href=\"#m2a5905af31\" y=\"185.830694\"/>\r\n     <use style=\"fill:#1f77b4;stroke:#1f77b4;\" x=\"235.244886\" xlink:href=\"#m2a5905af31\" y=\"182.279821\"/>\r\n     <use style=\"fill:#1f77b4;stroke:#1f77b4;\" x=\"87.499145\" xlink:href=\"#m2a5905af31\" y=\"194.441918\"/>\r\n     <use style=\"fill:#1f77b4;stroke:#1f77b4;\" x=\"130.080723\" xlink:href=\"#m2a5905af31\" y=\"153.627414\"/>\r\n     <use style=\"fill:#1f77b4;stroke:#1f77b4;\" x=\"161.097463\" xlink:href=\"#m2a5905af31\" y=\"110.669763\"/>\r\n     <use style=\"fill:#1f77b4;stroke:#1f77b4;\" x=\"344.120539\" xlink:href=\"#m2a5905af31\" y=\"101.982368\"/>\r\n    </g>\r\n   </g>\r\n   <g id=\"matplotlib.axis_1\">\r\n    <g id=\"xtick_1\">\r\n     <g id=\"line2d_1\">\r\n      <defs>\r\n       <path d=\"M 0 0 \r\nL 0 3.5 \r\n\" id=\"m2435871886\" style=\"stroke:#000000;stroke-width:0.8;\"/>\r\n      </defs>\r\n      <g>\r\n       <use style=\"stroke:#000000;stroke-width:0.8;\" x=\"53.700994\" xlink:href=\"#m2435871886\" y=\"224.64\"/>\r\n      </g>\r\n     </g>\r\n     <g id=\"text_1\">\r\n      <!-- −1.00 -->\r\n      <defs>\r\n       <path d=\"M 10.59375 35.5 \r\nL 73.1875 35.5 \r\nL 73.1875 27.203125 \r\nL 10.59375 27.203125 \r\nz\r\n\" id=\"DejaVuSans-8722\"/>\r\n       <path d=\"M 12.40625 8.296875 \r\nL 28.515625 8.296875 \r\nL 28.515625 63.921875 \r\nL 10.984375 60.40625 \r\nL 10.984375 69.390625 \r\nL 28.421875 72.90625 \r\nL 38.28125 72.90625 \r\nL 38.28125 8.296875 \r\nL 54.390625 8.296875 \r\nL 54.390625 0 \r\nL 12.40625 0 \r\nz\r\n\" id=\"DejaVuSans-49\"/>\r\n       <path d=\"M 10.6875 12.40625 \r\nL 21 12.40625 \r\nL 21 0 \r\nL 10.6875 0 \r\nz\r\n\" id=\"DejaVuSans-46\"/>\r\n       <path d=\"M 31.78125 66.40625 \r\nQ 24.171875 66.40625 20.328125 58.90625 \r\nQ 16.5 51.421875 16.5 36.375 \r\nQ 16.5 21.390625 20.328125 13.890625 \r\nQ 24.171875 6.390625 31.78125 6.390625 \r\nQ 39.453125 6.390625 43.28125 13.890625 \r\nQ 47.125 21.390625 47.125 36.375 \r\nQ 47.125 51.421875 43.28125 58.90625 \r\nQ 39.453125 66.40625 31.78125 66.40625 \r\nz\r\nM 31.78125 74.21875 \r\nQ 44.046875 74.21875 50.515625 64.515625 \r\nQ 56.984375 54.828125 56.984375 36.375 \r\nQ 56.984375 17.96875 50.515625 8.265625 \r\nQ 44.046875 -1.421875 31.78125 -1.421875 \r\nQ 19.53125 -1.421875 13.0625 8.265625 \r\nQ 6.59375 17.96875 6.59375 36.375 \r\nQ 6.59375 54.828125 13.0625 64.515625 \r\nQ 19.53125 74.21875 31.78125 74.21875 \r\nz\r\n\" id=\"DejaVuSans-48\"/>\r\n      </defs>\r\n      <g transform=\"translate(38.378338 239.238437)scale(0.1 -0.1)\">\r\n       <use xlink:href=\"#DejaVuSans-8722\"/>\r\n       <use x=\"83.789062\" xlink:href=\"#DejaVuSans-49\"/>\r\n       <use x=\"147.412109\" xlink:href=\"#DejaVuSans-46\"/>\r\n       <use x=\"179.199219\" xlink:href=\"#DejaVuSans-48\"/>\r\n       <use x=\"242.822266\" xlink:href=\"#DejaVuSans-48\"/>\r\n      </g>\r\n     </g>\r\n    </g>\r\n    <g id=\"xtick_2\">\r\n     <g id=\"line2d_2\">\r\n      <g>\r\n       <use style=\"stroke:#000000;stroke-width:0.8;\" x=\"91.746449\" xlink:href=\"#m2435871886\" y=\"224.64\"/>\r\n      </g>\r\n     </g>\r\n     <g id=\"text_2\">\r\n      <!-- −0.75 -->\r\n      <defs>\r\n       <path d=\"M 8.203125 72.90625 \r\nL 55.078125 72.90625 \r\nL 55.078125 68.703125 \r\nL 28.609375 0 \r\nL 18.3125 0 \r\nL 43.21875 64.59375 \r\nL 8.203125 64.59375 \r\nz\r\n\" id=\"DejaVuSans-55\"/>\r\n       <path d=\"M 10.796875 72.90625 \r\nL 49.515625 72.90625 \r\nL 49.515625 64.59375 \r\nL 19.828125 64.59375 \r\nL 19.828125 46.734375 \r\nQ 21.96875 47.46875 24.109375 47.828125 \r\nQ 26.265625 48.1875 28.421875 48.1875 \r\nQ 40.625 48.1875 47.75 41.5 \r\nQ 54.890625 34.8125 54.890625 23.390625 \r\nQ 54.890625 11.625 47.5625 5.09375 \r\nQ 40.234375 -1.421875 26.90625 -1.421875 \r\nQ 22.3125 -1.421875 17.546875 -0.640625 \r\nQ 12.796875 0.140625 7.71875 1.703125 \r\nL 7.71875 11.625 \r\nQ 12.109375 9.234375 16.796875 8.0625 \r\nQ 21.484375 6.890625 26.703125 6.890625 \r\nQ 35.15625 6.890625 40.078125 11.328125 \r\nQ 45.015625 15.765625 45.015625 23.390625 \r\nQ 45.015625 31 40.078125 35.4375 \r\nQ 35.15625 39.890625 26.703125 39.890625 \r\nQ 22.75 39.890625 18.8125 39.015625 \r\nQ 14.890625 38.140625 10.796875 36.28125 \r\nz\r\n\" id=\"DejaVuSans-53\"/>\r\n      </defs>\r\n      <g transform=\"translate(76.423793 239.238437)scale(0.1 -0.1)\">\r\n       <use xlink:href=\"#DejaVuSans-8722\"/>\r\n       <use x=\"83.789062\" xlink:href=\"#DejaVuSans-48\"/>\r\n       <use x=\"147.412109\" xlink:href=\"#DejaVuSans-46\"/>\r\n       <use x=\"179.199219\" xlink:href=\"#DejaVuSans-55\"/>\r\n       <use x=\"242.822266\" xlink:href=\"#DejaVuSans-53\"/>\r\n      </g>\r\n     </g>\r\n    </g>\r\n    <g id=\"xtick_3\">\r\n     <g id=\"line2d_3\">\r\n      <g>\r\n       <use style=\"stroke:#000000;stroke-width:0.8;\" x=\"129.791903\" xlink:href=\"#m2435871886\" y=\"224.64\"/>\r\n      </g>\r\n     </g>\r\n     <g id=\"text_3\">\r\n      <!-- −0.50 -->\r\n      <g transform=\"translate(114.469247 239.238437)scale(0.1 -0.1)\">\r\n       <use xlink:href=\"#DejaVuSans-8722\"/>\r\n       <use x=\"83.789062\" xlink:href=\"#DejaVuSans-48\"/>\r\n       <use x=\"147.412109\" xlink:href=\"#DejaVuSans-46\"/>\r\n       <use x=\"179.199219\" xlink:href=\"#DejaVuSans-53\"/>\r\n       <use x=\"242.822266\" xlink:href=\"#DejaVuSans-48\"/>\r\n      </g>\r\n     </g>\r\n    </g>\r\n    <g id=\"xtick_4\">\r\n     <g id=\"line2d_4\">\r\n      <g>\r\n       <use style=\"stroke:#000000;stroke-width:0.8;\" x=\"167.837358\" xlink:href=\"#m2435871886\" y=\"224.64\"/>\r\n      </g>\r\n     </g>\r\n     <g id=\"text_4\">\r\n      <!-- −0.25 -->\r\n      <defs>\r\n       <path d=\"M 19.1875 8.296875 \r\nL 53.609375 8.296875 \r\nL 53.609375 0 \r\nL 7.328125 0 \r\nL 7.328125 8.296875 \r\nQ 12.9375 14.109375 22.625 23.890625 \r\nQ 32.328125 33.6875 34.8125 36.53125 \r\nQ 39.546875 41.84375 41.421875 45.53125 \r\nQ 43.3125 49.21875 43.3125 52.78125 \r\nQ 43.3125 58.59375 39.234375 62.25 \r\nQ 35.15625 65.921875 28.609375 65.921875 \r\nQ 23.96875 65.921875 18.8125 64.3125 \r\nQ 13.671875 62.703125 7.8125 59.421875 \r\nL 7.8125 69.390625 \r\nQ 13.765625 71.78125 18.9375 73 \r\nQ 24.125 74.21875 28.421875 74.21875 \r\nQ 39.75 74.21875 46.484375 68.546875 \r\nQ 53.21875 62.890625 53.21875 53.421875 \r\nQ 53.21875 48.921875 51.53125 44.890625 \r\nQ 49.859375 40.875 45.40625 35.40625 \r\nQ 44.1875 33.984375 37.640625 27.21875 \r\nQ 31.109375 20.453125 19.1875 8.296875 \r\nz\r\n\" id=\"DejaVuSans-50\"/>\r\n      </defs>\r\n      <g transform=\"translate(152.514702 239.238437)scale(0.1 -0.1)\">\r\n       <use xlink:href=\"#DejaVuSans-8722\"/>\r\n       <use x=\"83.789062\" xlink:href=\"#DejaVuSans-48\"/>\r\n       <use x=\"147.412109\" xlink:href=\"#DejaVuSans-46\"/>\r\n       <use x=\"179.199219\" xlink:href=\"#DejaVuSans-50\"/>\r\n       <use x=\"242.822266\" xlink:href=\"#DejaVuSans-53\"/>\r\n      </g>\r\n     </g>\r\n    </g>\r\n    <g id=\"xtick_5\">\r\n     <g id=\"line2d_5\">\r\n      <g>\r\n       <use style=\"stroke:#000000;stroke-width:0.8;\" x=\"205.882812\" xlink:href=\"#m2435871886\" y=\"224.64\"/>\r\n      </g>\r\n     </g>\r\n     <g id=\"text_5\">\r\n      <!-- 0.00 -->\r\n      <g transform=\"translate(194.75 239.238437)scale(0.1 -0.1)\">\r\n       <use xlink:href=\"#DejaVuSans-48\"/>\r\n       <use x=\"63.623047\" xlink:href=\"#DejaVuSans-46\"/>\r\n       <use x=\"95.410156\" xlink:href=\"#DejaVuSans-48\"/>\r\n       <use x=\"159.033203\" xlink:href=\"#DejaVuSans-48\"/>\r\n      </g>\r\n     </g>\r\n    </g>\r\n    <g id=\"xtick_6\">\r\n     <g id=\"line2d_6\">\r\n      <g>\r\n       <use style=\"stroke:#000000;stroke-width:0.8;\" x=\"243.928267\" xlink:href=\"#m2435871886\" y=\"224.64\"/>\r\n      </g>\r\n     </g>\r\n     <g id=\"text_6\">\r\n      <!-- 0.25 -->\r\n      <g transform=\"translate(232.795455 239.238437)scale(0.1 -0.1)\">\r\n       <use xlink:href=\"#DejaVuSans-48\"/>\r\n       <use x=\"63.623047\" xlink:href=\"#DejaVuSans-46\"/>\r\n       <use x=\"95.410156\" xlink:href=\"#DejaVuSans-50\"/>\r\n       <use x=\"159.033203\" xlink:href=\"#DejaVuSans-53\"/>\r\n      </g>\r\n     </g>\r\n    </g>\r\n    <g id=\"xtick_7\">\r\n     <g id=\"line2d_7\">\r\n      <g>\r\n       <use style=\"stroke:#000000;stroke-width:0.8;\" x=\"281.973722\" xlink:href=\"#m2435871886\" y=\"224.64\"/>\r\n      </g>\r\n     </g>\r\n     <g id=\"text_7\">\r\n      <!-- 0.50 -->\r\n      <g transform=\"translate(270.840909 239.238437)scale(0.1 -0.1)\">\r\n       <use xlink:href=\"#DejaVuSans-48\"/>\r\n       <use x=\"63.623047\" xlink:href=\"#DejaVuSans-46\"/>\r\n       <use x=\"95.410156\" xlink:href=\"#DejaVuSans-53\"/>\r\n       <use x=\"159.033203\" xlink:href=\"#DejaVuSans-48\"/>\r\n      </g>\r\n     </g>\r\n    </g>\r\n    <g id=\"xtick_8\">\r\n     <g id=\"line2d_8\">\r\n      <g>\r\n       <use style=\"stroke:#000000;stroke-width:0.8;\" x=\"320.019176\" xlink:href=\"#m2435871886\" y=\"224.64\"/>\r\n      </g>\r\n     </g>\r\n     <g id=\"text_8\">\r\n      <!-- 0.75 -->\r\n      <g transform=\"translate(308.886364 239.238437)scale(0.1 -0.1)\">\r\n       <use xlink:href=\"#DejaVuSans-48\"/>\r\n       <use x=\"63.623047\" xlink:href=\"#DejaVuSans-46\"/>\r\n       <use x=\"95.410156\" xlink:href=\"#DejaVuSans-55\"/>\r\n       <use x=\"159.033203\" xlink:href=\"#DejaVuSans-53\"/>\r\n      </g>\r\n     </g>\r\n    </g>\r\n    <g id=\"xtick_9\">\r\n     <g id=\"line2d_9\">\r\n      <g>\r\n       <use style=\"stroke:#000000;stroke-width:0.8;\" x=\"358.064631\" xlink:href=\"#m2435871886\" y=\"224.64\"/>\r\n      </g>\r\n     </g>\r\n     <g id=\"text_9\">\r\n      <!-- 1.00 -->\r\n      <g transform=\"translate(346.931818 239.238437)scale(0.1 -0.1)\">\r\n       <use xlink:href=\"#DejaVuSans-49\"/>\r\n       <use x=\"63.623047\" xlink:href=\"#DejaVuSans-46\"/>\r\n       <use x=\"95.410156\" xlink:href=\"#DejaVuSans-48\"/>\r\n       <use x=\"159.033203\" xlink:href=\"#DejaVuSans-48\"/>\r\n      </g>\r\n     </g>\r\n    </g>\r\n   </g>\r\n   <g id=\"matplotlib.axis_2\">\r\n    <g id=\"ytick_1\">\r\n     <g id=\"line2d_10\">\r\n      <defs>\r\n       <path d=\"M 0 0 \r\nL -3.5 0 \r\n\" id=\"meb1f4ab0fc\" style=\"stroke:#000000;stroke-width:0.8;\"/>\r\n      </defs>\r\n      <g>\r\n       <use style=\"stroke:#000000;stroke-width:0.8;\" x=\"38.482813\" xlink:href=\"#meb1f4ab0fc\" y=\"215.100322\"/>\r\n      </g>\r\n     </g>\r\n     <g id=\"text_10\">\r\n      <!-- −1.0 -->\r\n      <g transform=\"translate(7.2 218.899541)scale(0.1 -0.1)\">\r\n       <use xlink:href=\"#DejaVuSans-8722\"/>\r\n       <use x=\"83.789062\" xlink:href=\"#DejaVuSans-49\"/>\r\n       <use x=\"147.412109\" xlink:href=\"#DejaVuSans-46\"/>\r\n       <use x=\"179.199219\" xlink:href=\"#DejaVuSans-48\"/>\r\n      </g>\r\n     </g>\r\n    </g>\r\n    <g id=\"ytick_2\">\r\n     <g id=\"line2d_11\">\r\n      <g>\r\n       <use style=\"stroke:#000000;stroke-width:0.8;\" x=\"38.482813\" xlink:href=\"#meb1f4ab0fc\" y=\"185.101893\"/>\r\n      </g>\r\n     </g>\r\n     <g id=\"text_11\">\r\n      <!-- −0.5 -->\r\n      <g transform=\"translate(7.2 188.901111)scale(0.1 -0.1)\">\r\n       <use xlink:href=\"#DejaVuSans-8722\"/>\r\n       <use x=\"83.789062\" xlink:href=\"#DejaVuSans-48\"/>\r\n       <use x=\"147.412109\" xlink:href=\"#DejaVuSans-46\"/>\r\n       <use x=\"179.199219\" xlink:href=\"#DejaVuSans-53\"/>\r\n      </g>\r\n     </g>\r\n    </g>\r\n    <g id=\"ytick_3\">\r\n     <g id=\"line2d_12\">\r\n      <g>\r\n       <use style=\"stroke:#000000;stroke-width:0.8;\" x=\"38.482813\" xlink:href=\"#meb1f4ab0fc\" y=\"155.103463\"/>\r\n      </g>\r\n     </g>\r\n     <g id=\"text_12\">\r\n      <!-- 0.0 -->\r\n      <g transform=\"translate(15.579688 158.902681)scale(0.1 -0.1)\">\r\n       <use xlink:href=\"#DejaVuSans-48\"/>\r\n       <use x=\"63.623047\" xlink:href=\"#DejaVuSans-46\"/>\r\n       <use x=\"95.410156\" xlink:href=\"#DejaVuSans-48\"/>\r\n      </g>\r\n     </g>\r\n    </g>\r\n    <g id=\"ytick_4\">\r\n     <g id=\"line2d_13\">\r\n      <g>\r\n       <use style=\"stroke:#000000;stroke-width:0.8;\" x=\"38.482813\" xlink:href=\"#meb1f4ab0fc\" y=\"125.105033\"/>\r\n      </g>\r\n     </g>\r\n     <g id=\"text_13\">\r\n      <!-- 0.5 -->\r\n      <g transform=\"translate(15.579688 128.904252)scale(0.1 -0.1)\">\r\n       <use xlink:href=\"#DejaVuSans-48\"/>\r\n       <use x=\"63.623047\" xlink:href=\"#DejaVuSans-46\"/>\r\n       <use x=\"95.410156\" xlink:href=\"#DejaVuSans-53\"/>\r\n      </g>\r\n     </g>\r\n    </g>\r\n    <g id=\"ytick_5\">\r\n     <g id=\"line2d_14\">\r\n      <g>\r\n       <use style=\"stroke:#000000;stroke-width:0.8;\" x=\"38.482813\" xlink:href=\"#meb1f4ab0fc\" y=\"95.106603\"/>\r\n      </g>\r\n     </g>\r\n     <g id=\"text_14\">\r\n      <!-- 1.0 -->\r\n      <g transform=\"translate(15.579688 98.905822)scale(0.1 -0.1)\">\r\n       <use xlink:href=\"#DejaVuSans-49\"/>\r\n       <use x=\"63.623047\" xlink:href=\"#DejaVuSans-46\"/>\r\n       <use x=\"95.410156\" xlink:href=\"#DejaVuSans-48\"/>\r\n      </g>\r\n     </g>\r\n    </g>\r\n    <g id=\"ytick_6\">\r\n     <g id=\"line2d_15\">\r\n      <g>\r\n       <use style=\"stroke:#000000;stroke-width:0.8;\" x=\"38.482813\" xlink:href=\"#meb1f4ab0fc\" y=\"65.108173\"/>\r\n      </g>\r\n     </g>\r\n     <g id=\"text_15\">\r\n      <!-- 1.5 -->\r\n      <g transform=\"translate(15.579688 68.907392)scale(0.1 -0.1)\">\r\n       <use xlink:href=\"#DejaVuSans-49\"/>\r\n       <use x=\"63.623047\" xlink:href=\"#DejaVuSans-46\"/>\r\n       <use x=\"95.410156\" xlink:href=\"#DejaVuSans-53\"/>\r\n      </g>\r\n     </g>\r\n    </g>\r\n    <g id=\"ytick_7\">\r\n     <g id=\"line2d_16\">\r\n      <g>\r\n       <use style=\"stroke:#000000;stroke-width:0.8;\" x=\"38.482813\" xlink:href=\"#meb1f4ab0fc\" y=\"35.109743\"/>\r\n      </g>\r\n     </g>\r\n     <g id=\"text_16\">\r\n      <!-- 2.0 -->\r\n      <g transform=\"translate(15.579688 38.908962)scale(0.1 -0.1)\">\r\n       <use xlink:href=\"#DejaVuSans-50\"/>\r\n       <use x=\"63.623047\" xlink:href=\"#DejaVuSans-46\"/>\r\n       <use x=\"95.410156\" xlink:href=\"#DejaVuSans-48\"/>\r\n      </g>\r\n     </g>\r\n    </g>\r\n   </g>\r\n   <g id=\"line2d_17\">\r\n    <path clip-path=\"url(#p0c1ad35cbc)\" d=\"M 53.700994 17.083636 \r\nL 56.775374 18.79278 \r\nL 59.849755 20.501924 \r\nL 62.924135 22.211067 \r\nL 65.998515 23.920211 \r\nL 69.072895 25.629355 \r\nL 72.147275 27.338498 \r\nL 75.221655 29.047642 \r\nL 78.296036 30.756786 \r\nL 81.370416 32.465929 \r\nL 84.444796 34.175073 \r\nL 87.519176 35.884217 \r\nL 90.593556 37.59336 \r\nL 93.667936 39.302504 \r\nL 96.742317 41.011647 \r\nL 99.816697 42.720791 \r\nL 102.891077 44.429935 \r\nL 105.965457 46.139078 \r\nL 109.039837 47.848222 \r\nL 112.114217 49.557366 \r\nL 115.188598 51.266509 \r\nL 118.262978 52.975653 \r\nL 121.337358 54.684797 \r\nL 124.411738 56.39394 \r\nL 127.486118 58.103084 \r\nL 130.560498 59.812228 \r\nL 133.634879 61.521371 \r\nL 136.709259 63.230515 \r\nL 139.783639 64.939659 \r\nL 142.858019 66.648802 \r\nL 145.932399 68.357946 \r\nL 149.006779 70.06709 \r\nL 152.08116 71.776233 \r\nL 155.15554 73.485377 \r\nL 158.22992 75.19452 \r\nL 161.3043 76.903664 \r\nL 164.37868 78.612808 \r\nL 167.45306 80.321951 \r\nL 170.527441 82.031095 \r\nL 173.601821 83.740239 \r\nL 176.676201 85.449382 \r\nL 179.750581 87.158526 \r\nL 182.824961 88.86767 \r\nL 185.899341 90.576813 \r\nL 188.973722 92.285957 \r\nL 192.048102 93.995101 \r\nL 195.122482 95.704244 \r\nL 198.196862 97.413388 \r\nL 201.271242 99.122532 \r\nL 204.345622 100.831675 \r\nL 207.420003 102.540819 \r\nL 210.494383 104.249962 \r\nL 213.568763 105.959106 \r\nL 216.643143 107.66825 \r\nL 219.717523 109.377393 \r\nL 222.791903 111.086537 \r\nL 225.866284 112.795681 \r\nL 228.940664 114.504824 \r\nL 232.015044 116.213968 \r\nL 235.089424 117.923112 \r\nL 238.163804 119.632255 \r\nL 241.238184 121.341399 \r\nL 244.312565 123.050543 \r\nL 247.386945 124.759686 \r\nL 250.461325 126.46883 \r\nL 253.535705 128.177974 \r\nL 256.610085 129.887117 \r\nL 259.684465 131.596261 \r\nL 262.758846 133.305405 \r\nL 265.833226 135.014548 \r\nL 268.907606 136.723692 \r\nL 271.981986 138.432835 \r\nL 275.056366 140.141979 \r\nL 278.130746 141.851123 \r\nL 281.205127 143.560266 \r\nL 284.279507 145.26941 \r\nL 287.353887 146.978554 \r\nL 290.428267 148.687697 \r\nL 293.502647 150.396841 \r\nL 296.577027 152.105985 \r\nL 299.651408 153.815128 \r\nL 302.725788 155.524272 \r\nL 305.800168 157.233416 \r\nL 308.874548 158.942559 \r\nL 311.948928 160.651703 \r\nL 315.023308 162.360847 \r\nL 318.097689 164.06999 \r\nL 321.172069 165.779134 \r\nL 324.246449 167.488278 \r\nL 327.320829 169.197421 \r\nL 330.395209 170.906565 \r\nL 333.469589 172.615708 \r\nL 336.54397 174.324852 \r\nL 339.61835 176.033996 \r\nL 342.69273 177.743139 \r\nL 345.76711 179.452283 \r\nL 348.84149 181.161427 \r\nL 351.91587 182.87057 \r\nL 354.990251 184.579714 \r\nL 358.064631 186.288858 \r\n\" style=\"fill:none;stroke:#ff0000;stroke-linecap:square;stroke-width:1.5;\"/>\r\n   </g>\r\n   <g id=\"patch_3\">\r\n    <path d=\"M 38.482813 224.64 \r\nL 38.482813 7.2 \r\n\" style=\"fill:none;stroke:#000000;stroke-linecap:square;stroke-linejoin:miter;stroke-width:0.8;\"/>\r\n   </g>\r\n   <g id=\"patch_4\">\r\n    <path d=\"M 373.282813 224.64 \r\nL 373.282813 7.2 \r\n\" style=\"fill:none;stroke:#000000;stroke-linecap:square;stroke-linejoin:miter;stroke-width:0.8;\"/>\r\n   </g>\r\n   <g id=\"patch_5\">\r\n    <path d=\"M 38.482812 224.64 \r\nL 373.282812 224.64 \r\n\" style=\"fill:none;stroke:#000000;stroke-linecap:square;stroke-linejoin:miter;stroke-width:0.8;\"/>\r\n   </g>\r\n   <g id=\"patch_6\">\r\n    <path d=\"M 38.482812 7.2 \r\nL 373.282812 7.2 \r\n\" style=\"fill:none;stroke:#000000;stroke-linecap:square;stroke-linejoin:miter;stroke-width:0.8;\"/>\r\n   </g>\r\n  </g>\r\n </g>\r\n <defs>\r\n  <clipPath id=\"p0c1ad35cbc\">\r\n   <rect height=\"217.44\" width=\"334.8\" x=\"38.482813\" y=\"7.2\"/>\r\n  </clipPath>\r\n </defs>\r\n</svg>\r\n",
      "image/png": "[encoded data removed]"
     },
     "metadata": {
      "needs_background": "light"
     }
    }
   ],
   "source": [
    "import numpy as np \n",
    "import matplotlib.pyplot as plt\n",
    "\n",
    "class perceptron:\n",
    "    \n",
    "    def __init__(self,d,n):\n",
    "        self.d =d \n",
    "        self.w = np.zeros(self.d)\n",
    "        self.n = n\n",
    "        self.a = 0\n",
    "        self.b = 0\n",
    "        self.target_set = False\n",
    "        self.X = np.zeros((n,d))\n",
    "\n",
    "    def build(self):\n",
    "        x = np.random.uniform(-1,1,2)\n",
    "        y = np.random.uniform(-1,1,2)\n",
    "\n",
    "        self.a, self.b = np.polyfit(x,y,1)\n",
    "\n",
    "        self.X = np.random.uniform(-1,1,2*self.n).reshape(self.n,self.d)\n",
    "\n",
    "        self.target_set = True\n",
    "\n",
    "    def f(self, X):\n",
    "        if X[1] > self.a * X[0] + self.b:\n",
    "            return 1\n",
    "        else:\n",
    "            return -1\n",
    "\n",
    "    def g(self, x):\n",
    "        return np.sign(np.dot(self.w, x))\n",
    "\n",
    "    def train(self):\n",
    "        if self.target_set != True:\n",
    "            return \"Target not set\"\n",
    "\n",
    "        n_iterations = 0\n",
    "\n",
    "        convergence = []\n",
    "        while True:\n",
    "            \n",
    "            n_iterations =+ 1\n",
    "            \n",
    "            # Find misclassified points\n",
    "            misclassified = []\n",
    "\n",
    "            if n_iterations == 1:\n",
    "                misclassified = self.X\n",
    "                \n",
    "            else:\n",
    "                for x in self.X:\n",
    "                    y_actual = self.f(x)\n",
    "                    y_predict = self.g(x)\n",
    "                    if y_actual != y_predict:\n",
    "                        misclassified.append(x)\n",
    "\n",
    "            if not misclassified.all():\n",
    "                break\n",
    "\n",
    "            # choose random point\n",
    "\n",
    "            w_old = self.w\n",
    "            i = np.random.randint(0, len(misclassified))\n",
    "            x = misclassified[i]\n",
    "            self.w += np.array(x).T * self.f(x)\n",
    "            \n",
    "            convergence.append(np.sum(self.w) - np.sum(w_old))\n",
    "            \n",
    "            misclassified = []\n",
    "\n",
    "        plt.plot(convergence)\n",
    "        return n_iterations\n",
    "        \n",
    "perceptron = perceptron(2,100)   \n",
    "perceptron.build()\n",
    "a = perceptron.a\n",
    "b = perceptron.b\n",
    "x = np.linspace(-1,1,100)\n",
    "y = a*x + b\n",
    "plt.plot(x,y,'-r')\n",
    "plt.scatter(perceptron.X[:,0], perceptron.X[:,1])\n",
    "\n",
    "#perceptron.train()\n",
    "\n",
    ""
   ]
  },
  {
   "cell_type": "code",
   "execution_count": null,
   "metadata": {},
   "outputs": [],
   "source": []
  },
  {
   "cell_type": "code",
   "execution_count": null,
   "metadata": {},
   "outputs": [],
   "source": []
  },
  {
   "cell_type": "code",
   "execution_count": null,
   "metadata": {},
   "outputs": [],
   "source": []
  },
  {
   "cell_type": "code",
   "execution_count": null,
   "metadata": {},
   "outputs": [],
   "source": []
  }
 ]
}